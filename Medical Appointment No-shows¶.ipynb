{
 "cells": [
  {
   "cell_type": "markdown",
   "id": "6421bdc1",
   "metadata": {},
   "source": [
    "<a id='intro'></a>\n",
    "## Introduction\n",
    "\n",
    "The dataset on \"No-show Appointments\" on Kaggle was collected from medical appointments in Brazil during 2016. It includes information on 110,527 appointments, with features such as patient demographics, medical history, appointment details, and attendance.\n",
    "\n",
    "\n",
    "\n",
    "### Research Question\n",
    "\n",
    "Is there a correlation between having a chronic illness and appointment attendance?"
   ]
  },
  {
   "cell_type": "code",
   "execution_count": 5,
   "id": "80411e1e",
   "metadata": {},
   "outputs": [],
   "source": [
    "#import Python libraries\n",
    "import pandas as pd\n",
    "import numpy as np\n",
    "from scipy.stats import chi2_contingency\n",
    "from sklearn.linear_model import LogisticRegression\n",
    "from sklearn.metrics import accuracy_score, f1_score"
   ]
  },
  {
   "cell_type": "markdown",
   "id": "34e4e319",
   "metadata": {},
   "source": [
    "<a id='wrangling'></a>\n",
    "## Data Wrangling"
   ]
  },
  {
   "cell_type": "code",
   "execution_count": 6,
   "id": "74277e28",
   "metadata": {},
   "outputs": [
    {
     "data": {
      "text/html": [
       "<div>\n",
       "<style scoped>\n",
       "    .dataframe tbody tr th:only-of-type {\n",
       "        vertical-align: middle;\n",
       "    }\n",
       "\n",
       "    .dataframe tbody tr th {\n",
       "        vertical-align: top;\n",
       "    }\n",
       "\n",
       "    .dataframe thead th {\n",
       "        text-align: right;\n",
       "    }\n",
       "</style>\n",
       "<table border=\"1\" class=\"dataframe\">\n",
       "  <thead>\n",
       "    <tr style=\"text-align: right;\">\n",
       "      <th></th>\n",
       "      <th>PatientId</th>\n",
       "      <th>AppointmentID</th>\n",
       "      <th>Gender</th>\n",
       "      <th>ScheduledDay</th>\n",
       "      <th>AppointmentDay</th>\n",
       "      <th>Age</th>\n",
       "      <th>Neighbourhood</th>\n",
       "      <th>Scholarship</th>\n",
       "      <th>Hipertension</th>\n",
       "      <th>Diabetes</th>\n",
       "      <th>Alcoholism</th>\n",
       "      <th>Handcap</th>\n",
       "      <th>SMS_received</th>\n",
       "      <th>No-show</th>\n",
       "    </tr>\n",
       "  </thead>\n",
       "  <tbody>\n",
       "    <tr>\n",
       "      <th>0</th>\n",
       "      <td>2.987250e+13</td>\n",
       "      <td>5642903</td>\n",
       "      <td>F</td>\n",
       "      <td>2016-04-29T18:38:08Z</td>\n",
       "      <td>2016-04-29T00:00:00Z</td>\n",
       "      <td>62</td>\n",
       "      <td>JARDIM DA PENHA</td>\n",
       "      <td>0</td>\n",
       "      <td>1</td>\n",
       "      <td>0</td>\n",
       "      <td>0</td>\n",
       "      <td>0</td>\n",
       "      <td>0</td>\n",
       "      <td>No</td>\n",
       "    </tr>\n",
       "    <tr>\n",
       "      <th>1</th>\n",
       "      <td>5.589978e+14</td>\n",
       "      <td>5642503</td>\n",
       "      <td>M</td>\n",
       "      <td>2016-04-29T16:08:27Z</td>\n",
       "      <td>2016-04-29T00:00:00Z</td>\n",
       "      <td>56</td>\n",
       "      <td>JARDIM DA PENHA</td>\n",
       "      <td>0</td>\n",
       "      <td>0</td>\n",
       "      <td>0</td>\n",
       "      <td>0</td>\n",
       "      <td>0</td>\n",
       "      <td>0</td>\n",
       "      <td>No</td>\n",
       "    </tr>\n",
       "    <tr>\n",
       "      <th>2</th>\n",
       "      <td>4.262962e+12</td>\n",
       "      <td>5642549</td>\n",
       "      <td>F</td>\n",
       "      <td>2016-04-29T16:19:04Z</td>\n",
       "      <td>2016-04-29T00:00:00Z</td>\n",
       "      <td>62</td>\n",
       "      <td>MATA DA PRAIA</td>\n",
       "      <td>0</td>\n",
       "      <td>0</td>\n",
       "      <td>0</td>\n",
       "      <td>0</td>\n",
       "      <td>0</td>\n",
       "      <td>0</td>\n",
       "      <td>No</td>\n",
       "    </tr>\n",
       "    <tr>\n",
       "      <th>3</th>\n",
       "      <td>8.679512e+11</td>\n",
       "      <td>5642828</td>\n",
       "      <td>F</td>\n",
       "      <td>2016-04-29T17:29:31Z</td>\n",
       "      <td>2016-04-29T00:00:00Z</td>\n",
       "      <td>8</td>\n",
       "      <td>PONTAL DE CAMBURI</td>\n",
       "      <td>0</td>\n",
       "      <td>0</td>\n",
       "      <td>0</td>\n",
       "      <td>0</td>\n",
       "      <td>0</td>\n",
       "      <td>0</td>\n",
       "      <td>No</td>\n",
       "    </tr>\n",
       "    <tr>\n",
       "      <th>4</th>\n",
       "      <td>8.841186e+12</td>\n",
       "      <td>5642494</td>\n",
       "      <td>F</td>\n",
       "      <td>2016-04-29T16:07:23Z</td>\n",
       "      <td>2016-04-29T00:00:00Z</td>\n",
       "      <td>56</td>\n",
       "      <td>JARDIM DA PENHA</td>\n",
       "      <td>0</td>\n",
       "      <td>1</td>\n",
       "      <td>1</td>\n",
       "      <td>0</td>\n",
       "      <td>0</td>\n",
       "      <td>0</td>\n",
       "      <td>No</td>\n",
       "    </tr>\n",
       "  </tbody>\n",
       "</table>\n",
       "</div>"
      ],
      "text/plain": [
       "      PatientId  AppointmentID Gender          ScheduledDay  \\\n",
       "0  2.987250e+13        5642903      F  2016-04-29T18:38:08Z   \n",
       "1  5.589978e+14        5642503      M  2016-04-29T16:08:27Z   \n",
       "2  4.262962e+12        5642549      F  2016-04-29T16:19:04Z   \n",
       "3  8.679512e+11        5642828      F  2016-04-29T17:29:31Z   \n",
       "4  8.841186e+12        5642494      F  2016-04-29T16:07:23Z   \n",
       "\n",
       "         AppointmentDay  Age      Neighbourhood  Scholarship  Hipertension  \\\n",
       "0  2016-04-29T00:00:00Z   62    JARDIM DA PENHA            0             1   \n",
       "1  2016-04-29T00:00:00Z   56    JARDIM DA PENHA            0             0   \n",
       "2  2016-04-29T00:00:00Z   62      MATA DA PRAIA            0             0   \n",
       "3  2016-04-29T00:00:00Z    8  PONTAL DE CAMBURI            0             0   \n",
       "4  2016-04-29T00:00:00Z   56    JARDIM DA PENHA            0             1   \n",
       "\n",
       "   Diabetes  Alcoholism  Handcap  SMS_received No-show  \n",
       "0         0           0        0             0      No  \n",
       "1         0           0        0             0      No  \n",
       "2         0           0        0             0      No  \n",
       "3         0           0        0             0      No  \n",
       "4         1           0        0             0      No  "
      ]
     },
     "execution_count": 6,
     "metadata": {},
     "output_type": "execute_result"
    }
   ],
   "source": [
    "#Read and display dataset \n",
    "df = pd.read_csv('medical_no_shows_2016.csv')\n",
    "df.head()"
   ]
  },
  {
   "cell_type": "code",
   "execution_count": 7,
   "id": "0cfd5ed7",
   "metadata": {},
   "outputs": [
    {
     "name": "stdout",
     "output_type": "stream",
     "text": [
      "<class 'pandas.core.frame.DataFrame'>\n",
      "RangeIndex: 110527 entries, 0 to 110526\n",
      "Data columns (total 14 columns):\n",
      " #   Column          Non-Null Count   Dtype  \n",
      "---  ------          --------------   -----  \n",
      " 0   PatientId       110527 non-null  float64\n",
      " 1   AppointmentID   110527 non-null  int64  \n",
      " 2   Gender          110527 non-null  object \n",
      " 3   ScheduledDay    110527 non-null  object \n",
      " 4   AppointmentDay  110527 non-null  object \n",
      " 5   Age             110527 non-null  int64  \n",
      " 6   Neighbourhood   110527 non-null  object \n",
      " 7   Scholarship     110527 non-null  int64  \n",
      " 8   Hipertension    110527 non-null  int64  \n",
      " 9   Diabetes        110527 non-null  int64  \n",
      " 10  Alcoholism      110527 non-null  int64  \n",
      " 11  Handcap         110527 non-null  int64  \n",
      " 12  SMS_received    110527 non-null  int64  \n",
      " 13  No-show         110527 non-null  object \n",
      "dtypes: float64(1), int64(8), object(5)\n",
      "memory usage: 11.8+ MB\n"
     ]
    }
   ],
   "source": [
    "#Use df.info() to view details about the dataframe\n",
    "\n",
    "df.info()"
   ]
  },
  {
   "cell_type": "code",
   "execution_count": 8,
   "id": "003e9816",
   "metadata": {},
   "outputs": [
    {
     "data": {
      "text/plain": [
       "(110527, 14)"
      ]
     },
     "execution_count": 8,
     "metadata": {},
     "output_type": "execute_result"
    }
   ],
   "source": [
    "#Use df.shape() to see the shape of the dataframe\n",
    "\n",
    "df.shape"
   ]
  },
  {
   "cell_type": "code",
   "execution_count": 9,
   "id": "81540b54",
   "metadata": {},
   "outputs": [
    {
     "data": {
      "text/plain": [
       "False    110527\n",
       "dtype: int64"
      ]
     },
     "execution_count": 9,
     "metadata": {},
     "output_type": "execute_result"
    }
   ],
   "source": [
    "#Inspect for duplicated rows using .duplicated()\n",
    "\n",
    "df.duplicated().value_counts()"
   ]
  },
  {
   "cell_type": "code",
   "execution_count": 10,
   "id": "cff1f668",
   "metadata": {},
   "outputs": [
    {
     "data": {
      "text/plain": [
       "PatientId         0\n",
       "AppointmentID     0\n",
       "Gender            0\n",
       "ScheduledDay      0\n",
       "AppointmentDay    0\n",
       "Age               0\n",
       "Neighbourhood     0\n",
       "Scholarship       0\n",
       "Hipertension      0\n",
       "Diabetes          0\n",
       "Alcoholism        0\n",
       "Handcap           0\n",
       "SMS_received      0\n",
       "No-show           0\n",
       "dtype: int64"
      ]
     },
     "execution_count": 10,
     "metadata": {},
     "output_type": "execute_result"
    }
   ],
   "source": [
    "#df.isnull() to inspect for NaN values\n",
    "\n",
    "df.isnull().sum()"
   ]
  },
  {
   "cell_type": "code",
   "execution_count": 11,
   "id": "07d8aede",
   "metadata": {},
   "outputs": [
    {
     "data": {
      "text/plain": [
       "(115, -1)"
      ]
     },
     "execution_count": 11,
     "metadata": {},
     "output_type": "execute_result"
    }
   ],
   "source": [
    "#Verify that age range is possible\n",
    "\n",
    "df['Age'].max(), df['Age'].min()"
   ]
  },
  {
   "cell_type": "code",
   "execution_count": 12,
   "id": "8b456937",
   "metadata": {},
   "outputs": [
    {
     "data": {
      "text/plain": [
       "PatientId          62299\n",
       "AppointmentID     110527\n",
       "Gender                 2\n",
       "ScheduledDay      103549\n",
       "AppointmentDay        27\n",
       "Age                  104\n",
       "Neighbourhood         81\n",
       "Scholarship            2\n",
       "Hipertension           2\n",
       "Diabetes               2\n",
       "Alcoholism             2\n",
       "Handcap                5\n",
       "SMS_received           2\n",
       "No-show                2\n",
       "dtype: int64"
      ]
     },
     "execution_count": 12,
     "metadata": {},
     "output_type": "execute_result"
    }
   ],
   "source": [
    "#Verify that the boolean columns have 2 possible values  \n",
    "\n",
    "df.nunique()"
   ]
  },
  {
   "cell_type": "markdown",
   "id": "6115cfb0",
   "metadata": {},
   "source": [
    "### Data Cleaning"
   ]
  },
  {
   "cell_type": "code",
   "execution_count": 13,
   "id": "2febcfa9",
   "metadata": {},
   "outputs": [
    {
     "name": "stdout",
     "output_type": "stream",
     "text": [
      "<class 'pandas.core.frame.DataFrame'>\n",
      "RangeIndex: 110527 entries, 0 to 110526\n",
      "Data columns (total 14 columns):\n",
      " #   Column          Non-Null Count   Dtype \n",
      "---  ------          --------------   ----- \n",
      " 0   PatientId       110527 non-null  int64 \n",
      " 1   AppointmentID   110527 non-null  int64 \n",
      " 2   Gender          110527 non-null  object\n",
      " 3   ScheduledDay    110527 non-null  object\n",
      " 4   AppointmentDay  110527 non-null  object\n",
      " 5   Age             110527 non-null  int64 \n",
      " 6   Neighbourhood   110527 non-null  object\n",
      " 7   Scholarship     110527 non-null  int64 \n",
      " 8   Hipertension    110527 non-null  int64 \n",
      " 9   Diabetes        110527 non-null  int64 \n",
      " 10  Alcoholism      110527 non-null  int64 \n",
      " 11  Handcap         110527 non-null  int64 \n",
      " 12  SMS_received    110527 non-null  int64 \n",
      " 13  No-show         110527 non-null  object\n",
      "dtypes: int64(9), object(5)\n",
      "memory usage: 11.8+ MB\n"
     ]
    }
   ],
   "source": [
    "# used .astype() to convert PatientID column into appropriate datatype \n",
    "df['PatientId'] = df['PatientId'].astype(int)\n",
    "df.info()\n"
   ]
  },
  {
   "cell_type": "code",
   "execution_count": 14,
   "id": "7630fb69",
   "metadata": {},
   "outputs": [],
   "source": [
    "#Identify which patient had an invalid age value of -1. The index of that row is 99832. Dropped that row \n",
    "\n",
    "df.query('Age <= -1')\n",
    "df.drop(df.index[99832], inplace=True)"
   ]
  },
  {
   "cell_type": "code",
   "execution_count": 15,
   "id": "8cb6e43d",
   "metadata": {},
   "outputs": [
    {
     "data": {
      "text/html": [
       "<div>\n",
       "<style scoped>\n",
       "    .dataframe tbody tr th:only-of-type {\n",
       "        vertical-align: middle;\n",
       "    }\n",
       "\n",
       "    .dataframe tbody tr th {\n",
       "        vertical-align: top;\n",
       "    }\n",
       "\n",
       "    .dataframe thead th {\n",
       "        text-align: right;\n",
       "    }\n",
       "</style>\n",
       "<table border=\"1\" class=\"dataframe\">\n",
       "  <thead>\n",
       "    <tr style=\"text-align: right;\">\n",
       "      <th></th>\n",
       "      <th>PatientId</th>\n",
       "      <th>AppointmentID</th>\n",
       "      <th>Gender</th>\n",
       "      <th>ScheduledDay</th>\n",
       "      <th>AppointmentDay</th>\n",
       "      <th>Age</th>\n",
       "      <th>Neighbourhood</th>\n",
       "      <th>Scholarship</th>\n",
       "      <th>Hipertension</th>\n",
       "      <th>Diabetes</th>\n",
       "      <th>Alcoholism</th>\n",
       "      <th>Handcap</th>\n",
       "      <th>SMS_received</th>\n",
       "      <th>No-show</th>\n",
       "    </tr>\n",
       "  </thead>\n",
       "  <tbody>\n",
       "  </tbody>\n",
       "</table>\n",
       "</div>"
      ],
      "text/plain": [
       "Empty DataFrame\n",
       "Columns: [PatientId, AppointmentID, Gender, ScheduledDay, AppointmentDay, Age, Neighbourhood, Scholarship, Hipertension, Diabetes, Alcoholism, Handcap, SMS_received, No-show]\n",
       "Index: []"
      ]
     },
     "execution_count": 15,
     "metadata": {},
     "output_type": "execute_result"
    }
   ],
   "source": [
    "#Verify the row was dropped and changes were saved to df\n",
    "\n",
    "df.query('Age <= -1')"
   ]
  },
  {
   "cell_type": "code",
   "execution_count": 16,
   "id": "bc3f3c87",
   "metadata": {},
   "outputs": [],
   "source": [
    "#Rename the hypertension column so that it is spelled correctly \n",
    "\n",
    "df.rename(columns={'Hipertension': 'Hypertension'}, inplace=True)"
   ]
  },
  {
   "cell_type": "code",
   "execution_count": 17,
   "id": "c180bfe5",
   "metadata": {},
   "outputs": [],
   "source": [
    "#Convert No-show column values to 0s and 1s \n",
    "df['No-show'] = df['No-show'].map({'No': 0, 'Yes': 1})"
   ]
  },
  {
   "cell_type": "code",
   "execution_count": 18,
   "id": "e75f42d7",
   "metadata": {},
   "outputs": [
    {
     "data": {
      "text/html": [
       "<div>\n",
       "<style scoped>\n",
       "    .dataframe tbody tr th:only-of-type {\n",
       "        vertical-align: middle;\n",
       "    }\n",
       "\n",
       "    .dataframe tbody tr th {\n",
       "        vertical-align: top;\n",
       "    }\n",
       "\n",
       "    .dataframe thead th {\n",
       "        text-align: right;\n",
       "    }\n",
       "</style>\n",
       "<table border=\"1\" class=\"dataframe\">\n",
       "  <thead>\n",
       "    <tr style=\"text-align: right;\">\n",
       "      <th></th>\n",
       "      <th>PatientId</th>\n",
       "      <th>AppointmentID</th>\n",
       "      <th>Gender</th>\n",
       "      <th>ScheduledDay</th>\n",
       "      <th>AppointmentDay</th>\n",
       "      <th>Age</th>\n",
       "      <th>Neighbourhood</th>\n",
       "      <th>Scholarship</th>\n",
       "      <th>Hypertension</th>\n",
       "      <th>Diabetes</th>\n",
       "      <th>Alcoholism</th>\n",
       "      <th>Handcap</th>\n",
       "      <th>SMS_received</th>\n",
       "      <th>No-show</th>\n",
       "    </tr>\n",
       "  </thead>\n",
       "  <tbody>\n",
       "    <tr>\n",
       "      <th>0</th>\n",
       "      <td>29872499824296</td>\n",
       "      <td>5642903</td>\n",
       "      <td>F</td>\n",
       "      <td>2016-04-29T18:38:08Z</td>\n",
       "      <td>2016-04-29T00:00:00Z</td>\n",
       "      <td>62</td>\n",
       "      <td>JARDIM DA PENHA</td>\n",
       "      <td>0</td>\n",
       "      <td>1</td>\n",
       "      <td>0</td>\n",
       "      <td>0</td>\n",
       "      <td>0</td>\n",
       "      <td>0</td>\n",
       "      <td>0</td>\n",
       "    </tr>\n",
       "    <tr>\n",
       "      <th>1</th>\n",
       "      <td>558997776694438</td>\n",
       "      <td>5642503</td>\n",
       "      <td>M</td>\n",
       "      <td>2016-04-29T16:08:27Z</td>\n",
       "      <td>2016-04-29T00:00:00Z</td>\n",
       "      <td>56</td>\n",
       "      <td>JARDIM DA PENHA</td>\n",
       "      <td>0</td>\n",
       "      <td>0</td>\n",
       "      <td>0</td>\n",
       "      <td>0</td>\n",
       "      <td>0</td>\n",
       "      <td>0</td>\n",
       "      <td>0</td>\n",
       "    </tr>\n",
       "    <tr>\n",
       "      <th>2</th>\n",
       "      <td>4262962299951</td>\n",
       "      <td>5642549</td>\n",
       "      <td>F</td>\n",
       "      <td>2016-04-29T16:19:04Z</td>\n",
       "      <td>2016-04-29T00:00:00Z</td>\n",
       "      <td>62</td>\n",
       "      <td>MATA DA PRAIA</td>\n",
       "      <td>0</td>\n",
       "      <td>0</td>\n",
       "      <td>0</td>\n",
       "      <td>0</td>\n",
       "      <td>0</td>\n",
       "      <td>0</td>\n",
       "      <td>0</td>\n",
       "    </tr>\n",
       "    <tr>\n",
       "      <th>3</th>\n",
       "      <td>867951213174</td>\n",
       "      <td>5642828</td>\n",
       "      <td>F</td>\n",
       "      <td>2016-04-29T17:29:31Z</td>\n",
       "      <td>2016-04-29T00:00:00Z</td>\n",
       "      <td>8</td>\n",
       "      <td>PONTAL DE CAMBURI</td>\n",
       "      <td>0</td>\n",
       "      <td>0</td>\n",
       "      <td>0</td>\n",
       "      <td>0</td>\n",
       "      <td>0</td>\n",
       "      <td>0</td>\n",
       "      <td>0</td>\n",
       "    </tr>\n",
       "    <tr>\n",
       "      <th>4</th>\n",
       "      <td>8841186448183</td>\n",
       "      <td>5642494</td>\n",
       "      <td>F</td>\n",
       "      <td>2016-04-29T16:07:23Z</td>\n",
       "      <td>2016-04-29T00:00:00Z</td>\n",
       "      <td>56</td>\n",
       "      <td>JARDIM DA PENHA</td>\n",
       "      <td>0</td>\n",
       "      <td>1</td>\n",
       "      <td>1</td>\n",
       "      <td>0</td>\n",
       "      <td>0</td>\n",
       "      <td>0</td>\n",
       "      <td>0</td>\n",
       "    </tr>\n",
       "  </tbody>\n",
       "</table>\n",
       "</div>"
      ],
      "text/plain": [
       "         PatientId  AppointmentID Gender          ScheduledDay  \\\n",
       "0   29872499824296        5642903      F  2016-04-29T18:38:08Z   \n",
       "1  558997776694438        5642503      M  2016-04-29T16:08:27Z   \n",
       "2    4262962299951        5642549      F  2016-04-29T16:19:04Z   \n",
       "3     867951213174        5642828      F  2016-04-29T17:29:31Z   \n",
       "4    8841186448183        5642494      F  2016-04-29T16:07:23Z   \n",
       "\n",
       "         AppointmentDay  Age      Neighbourhood  Scholarship  Hypertension  \\\n",
       "0  2016-04-29T00:00:00Z   62    JARDIM DA PENHA            0             1   \n",
       "1  2016-04-29T00:00:00Z   56    JARDIM DA PENHA            0             0   \n",
       "2  2016-04-29T00:00:00Z   62      MATA DA PRAIA            0             0   \n",
       "3  2016-04-29T00:00:00Z    8  PONTAL DE CAMBURI            0             0   \n",
       "4  2016-04-29T00:00:00Z   56    JARDIM DA PENHA            0             1   \n",
       "\n",
       "   Diabetes  Alcoholism  Handcap  SMS_received  No-show  \n",
       "0         0           0        0             0        0  \n",
       "1         0           0        0             0        0  \n",
       "2         0           0        0             0        0  \n",
       "3         0           0        0             0        0  \n",
       "4         1           0        0             0        0  "
      ]
     },
     "execution_count": 18,
     "metadata": {},
     "output_type": "execute_result"
    }
   ],
   "source": [
    "df.head()"
   ]
  },
  {
   "cell_type": "markdown",
   "id": "7fa7cbfd",
   "metadata": {},
   "source": [
    "<a id='eda'></a>\n",
    "## Exploratory Data Analysis\n",
    "\n",
    "\n",
    "### Does having a medical condition affect appointment attendance?"
   ]
  },
  {
   "cell_type": "code",
   "execution_count": 20,
   "id": "9530056d",
   "metadata": {},
   "outputs": [
    {
     "name": "stdout",
     "output_type": "stream",
     "text": [
      "Healthy Total: 87268\n",
      "Healthy No-showed: 18258 20.921758261905854 %\n",
      "Healthy Showed: 69010 79.07824173809415 %\n"
     ]
    }
   ],
   "source": [
    "# Identify the distributions of people who do not have any of the specified conditions and whether they attended \n",
    "count_healthy_total = df[\n",
    "    (df['Diabetes'] == 0) &\n",
    "    (df['Hypertension'] == 0) \n",
    "].shape[0]\n",
    "\n",
    "count_healthy_no_show = df[\n",
    "    (df['Diabetes'] == 0) &\n",
    "    (df['Hypertension'] == 0) &\n",
    "    (df['No-show'] == 1)\n",
    "].shape[0]\n",
    "\n",
    "count_healthy_showed = df[\n",
    "    (df['Diabetes'] == 0) &\n",
    "    (df['Hypertension'] == 0) &\n",
    "    (df['No-show'] == 0)\n",
    "].shape[0]\n",
    "\n",
    "print(f'Healthy Total:', count_healthy_total)\n",
    "print(f'Healthy No-showed:', count_healthy_no_show, (count_healthy_no_show/count_healthy_total) *100 ,'%')\n",
    "print(f'Healthy Showed:', count_healthy_showed, (count_healthy_showed/count_healthy_total) *100 ,'%')"
   ]
  },
  {
   "cell_type": "code",
   "execution_count": 21,
   "id": "7ee32b06",
   "metadata": {},
   "outputs": [],
   "source": [
    "#### Is there a correlation between having diabetes and appointment attendance? "
   ]
  },
  {
   "cell_type": "code",
   "execution_count": 22,
   "id": "31a43034",
   "metadata": {},
   "outputs": [
    {
     "name": "stdout",
     "output_type": "stream",
     "text": [
      "Diabetic Total: 1457\n",
      "Diabetic No-showed: 289 19.83527796842828 %\n",
      "Diabetic Showed: 69010 80.16472203157173 %\n"
     ]
    }
   ],
   "source": [
    "# Identify the distributions of people who are diabetic and whether they attended \n",
    "count_diabetic_total = df[\n",
    "    (df['Diabetes'] == 1) &\n",
    "    (df['Hypertension'] == 0)\n",
    "].shape[0]\n",
    "\n",
    "count_diabetic_no_show = df[\n",
    "    (df['Diabetes'] == 1) &\n",
    "    (df['Hypertension'] == 0) &\n",
    "    (df['No-show'] == 1)\n",
    "].shape[0]\n",
    "\n",
    "count_diabetic_showed = df[\n",
    "    (df['Diabetes'] == 1) &\n",
    "    (df['Hypertension'] == 0) &\n",
    "    (df['No-show'] == 0)\n",
    "].shape[0]\n",
    "\n",
    "print(f'Diabetic Total:', count_diabetic_total)\n",
    "print(f'Diabetic No-showed:', count_diabetic_no_show, (count_diabetic_no_show/count_diabetic_total) *100 ,'%')\n",
    "print(f'Diabetic Showed:', count_healthy_showed, (count_diabetic_showed/count_diabetic_total) *100 ,'%')"
   ]
  },
  {
   "cell_type": "markdown",
   "id": "e09bbef5",
   "metadata": {},
   "source": [
    "#### Is there a correlation between having hypertension and appointment attendance? \n"
   ]
  },
  {
   "cell_type": "code",
   "execution_count": 38,
   "id": "9bb7d1c6",
   "metadata": {},
   "outputs": [
    {
     "name": "stdout",
     "output_type": "stream",
     "text": [
      "High BP Total: 15315\n",
      "High BP No-showed: 2631 17.179236043095006 %\n",
      "High BP Showed: 12684 82.820763956905 %\n"
     ]
    }
   ],
   "source": [
    "count_hypertension_total = df[\n",
    "    (df['Hypertension'] == 1) &\n",
    "    (df['Diabetes'] == 0)\n",
    "].shape[0]\n",
    "\n",
    "count_hypertension_no_show = df[\n",
    "    (df['Hypertension'] == 1) &\n",
    "    (df['Diabetes'] == 0) &\n",
    "    (df['No-show'] == 1)\n",
    "].shape[0]\n",
    "\n",
    "count_hypertension_showed = df[\n",
    "    (df['Hypertension'] == 1) &\n",
    "    (df['Diabetes'] == 0) &\n",
    "    (df['No-show'] == 0)\n",
    "].shape[0]\n",
    "\n",
    "print(f'High BP Total:', count_hypertension_total)\n",
    "print(f'High BP No-showed:', count_hypertension_no_show, (count_hypertension_no_show/count_hypertension_total) *100 ,'%')\n",
    "print(f'High BP Showed:', count_hypertension_showed, (count_hypertension_showed/count_hypertension_total) *100 ,'%')"
   ]
  },
  {
   "cell_type": "markdown",
   "id": "5a68cbbb",
   "metadata": {},
   "source": [
    "#### Does having both diabetes and hypertension affect appointment attendance?"
   ]
  },
  {
   "cell_type": "code",
   "execution_count": 28,
   "id": "24638776",
   "metadata": {},
   "outputs": [],
   "source": [
    "# Create a new column that indicates whether a patient has both diabetes and hypertension\n",
    "df['diabetes_hypertension'] = (df['Diabetes'] == 1) & (df['Hypertension'] == 1)"
   ]
  },
  {
   "cell_type": "code",
   "execution_count": 29,
   "id": "fa900640",
   "metadata": {},
   "outputs": [
    {
     "name": "stdout",
     "output_type": "stream",
     "text": [
      "Diabetic & High BP Total: 6486\n",
      "Diabetic & High BP No-showed: 1141 17.59173604687018 %\n",
      "Diabetic & High BP Showed: 5345 82.40826395312982 %\n"
     ]
    }
   ],
   "source": [
    "count_both_total = df[\n",
    "    (df['diabetes_hypertension'] == True)\n",
    "].shape[0]\n",
    "\n",
    "count_both_no_show = df[\n",
    "    (df['diabetes_hypertension'] == True) & \n",
    "    (df['No-show'] == 1)\n",
    "].shape[0]\n",
    "\n",
    "count_both_showed = df[\n",
    "    (df['diabetes_hypertension'] == True) &\n",
    "    (df['No-show'] == 0)\n",
    "].shape[0]\n",
    "\n",
    "print(f'Diabetic & High BP Total:', count_both_total)\n",
    "print(f'Diabetic & High BP No-showed:', count_both_no_show, (count_both_no_show/count_both_total) *100 ,'%')\n",
    "print(f'Diabetic & High BP Showed:', count_both_showed, (count_both_showed/count_both_total) *100 ,'%')"
   ]
  },
  {
   "cell_type": "markdown",
   "id": "13573f6d",
   "metadata": {},
   "source": [
    "### Statistical Analysis "
   ]
  },
  {
   "cell_type": "markdown",
   "id": "fd86869c",
   "metadata": {},
   "source": [
    "#### Use Chi-Square Test of Independence to determine if there is a significant association between chronic illness status and appointment attendance."
   ]
  },
  {
   "cell_type": "code",
   "execution_count": 30,
   "id": "083f8017",
   "metadata": {},
   "outputs": [
    {
     "name": "stdout",
     "output_type": "stream",
     "text": [
      "Chi2: 25.326693550869877, p-value: 4.839646820880228e-07\n"
     ]
    }
   ],
   "source": [
    "#Exploring whether there is a statistically signifigant association between being diabetic status and attendance\n",
    "contingency_table = pd.crosstab(df['Diabetes'], df['No-show'])\n",
    "chi2, p, dof, expected = chi2_contingency(contingency_table)\n",
    "print(f\"Chi2: {chi2}, p-value: {p}\")"
   ]
  },
  {
   "cell_type": "code",
   "execution_count": 31,
   "id": "954773e2",
   "metadata": {},
   "outputs": [
    {
     "name": "stdout",
     "output_type": "stream",
     "text": [
      "Chi2: 140.66859528017784, p-value: 1.9011212241495915e-32\n"
     ]
    }
   ],
   "source": [
    "#Exploring whether there is a statistically signifigant association between blood pressure status and attendance\n",
    "contingency_table = pd.crosstab(df['Hypertension'], df['No-show'])\n",
    "chi2, p, dof, expected = chi2_contingency(contingency_table)\n",
    "print(f\"Chi2: {chi2}, p-value: {p}\")"
   ]
  },
  {
   "cell_type": "code",
   "execution_count": 32,
   "id": "0cae9294",
   "metadata": {},
   "outputs": [
    {
     "name": "stdout",
     "output_type": "stream",
     "text": [
      "Chi2: 28.76934712167211, p-value: 8.153135678619768e-08\n"
     ]
    }
   ],
   "source": [
    "#Exploring whether there is a statistically signifigant association between having diabetes and high blood pressure status vs. attendance\n",
    "contingency_table = pd.crosstab(df['diabetes_hypertension'], df['No-show'])\n",
    "chi2, p, dof, expected = chi2_contingency(contingency_table)\n",
    "print(f\"Chi2: {chi2}, p-value: {p}\")"
   ]
  },
  {
   "cell_type": "markdown",
   "id": "0d6755de",
   "metadata": {},
   "source": [
    "The Chi2 value of 25.33 suggests a difference between the observed and expected frequencies of diabetes status and appointment no-shows. The p-vlaue of 4.84×10^−7 is much less than the common significance level of 0.05, indicating strong evidence against the null hypothesis. This means that there is a statistically significant association between having diabetes and the likelihood of a no-show.\n",
    "\n",
    "The Chi2 value of 140.67 indicates a very strong difference between observed and expected frequencies regarding hypertension status and appointment no-shows. The p-value of 1.90x10^-32 provides evidence against the null hypothesis. This result suggests a statistically significant association between hypertension and the likelihood of a no-show.\n",
    "\n",
    "Both diabetes and hypertension have significant associations with the likelihood of missing an appointment, as indicated by the high Chi2 values and very low p-values. These results suggest that patients with these chronic conditions might exhibit different patterns in attending or missing medical appointments compared to those without these conditions."
   ]
  },
  {
   "cell_type": "markdown",
   "id": "3649e894",
   "metadata": {},
   "source": [
    "#### Use Logistic Regression to assess the impact of chronic illnesses on the probability of no-shows while controlling for other factors"
   ]
  },
  {
   "cell_type": "code",
   "execution_count": 34,
   "id": "0ada1aec",
   "metadata": {},
   "outputs": [
    {
     "name": "stdout",
     "output_type": "stream",
     "text": [
      "Intercept: [-1.3296341]\n",
      "Coefficients: [[-0.06609475 -0.24336145  0.09504308]]\n"
     ]
    }
   ],
   "source": [
    "# Prepare the features and target variable\n",
    "X = df[['Diabetes', 'Hypertension', 'diabetes_hypertension']]\n",
    "y = df['No-show']\n",
    "\n",
    "# Fit the logistic regression model\n",
    "model = LogisticRegression()\n",
    "model.fit(X, y)\n",
    "\n",
    "# Output the coefficients and p-values\n",
    "coefficients = model.coef_\n",
    "intercept = model.intercept_\n",
    "\n",
    "print(f\"Intercept: {intercept}\")\n",
    "print(f\"Coefficients: {coefficients}\")"
   ]
  },
  {
   "cell_type": "markdown",
   "id": "9029a5cc",
   "metadata": {},
   "source": [
    "Diabetes Coefficient: -0.00863598. This suggests that having diabetes slightly decreases the likelihood of not showing up, but the effect is very small since the coefficient is close to zero.\n",
    "\n",
    "Hypertension Coefficient: -0.24090543. This indicates that having hypertension reduces the likelihood of not showing up for an appointment more noticeably.\n",
    "\n",
    "Interaction Term Coefficient: 0.03023134. A positive coefficient here suggests that the combined presence of both conditions slightly increases the likelihood of a no-show, but the effect size is relatively small."
   ]
  },
  {
   "cell_type": "code",
   "execution_count": null,
   "id": "98a83271",
   "metadata": {},
   "outputs": [],
   "source": []
  }
 ],
 "metadata": {
  "kernelspec": {
   "display_name": "Python 3 (ipykernel)",
   "language": "python",
   "name": "python3"
  },
  "language_info": {
   "codemirror_mode": {
    "name": "ipython",
    "version": 3
   },
   "file_extension": ".py",
   "mimetype": "text/x-python",
   "name": "python",
   "nbconvert_exporter": "python",
   "pygments_lexer": "ipython3",
   "version": "3.10.13"
  }
 },
 "nbformat": 4,
 "nbformat_minor": 5
}
